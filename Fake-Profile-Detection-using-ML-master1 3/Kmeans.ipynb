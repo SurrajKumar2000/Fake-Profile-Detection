{
 "cells": [
  {
   "cell_type": "markdown",
   "metadata": {},
   "source": [
    "# Detect fake profiles in online social networks using Kmeans cluster"
   ]
  },
  {
   "cell_type": "code",
   "execution_count": 1,
   "metadata": {},
   "outputs": [],
   "source": [
    "import pandas as pd\n",
    "import seaborn as sns\n",
    "import numpy as np\n",
    "import matplotlib.pyplot as plt\n",
    "%matplotlib inline"
   ]
  },
  {
   "cell_type": "code",
   "execution_count": 2,
   "metadata": {},
   "outputs": [
    {
     "data": {
      "text/html": [
       "<div>\n",
       "<style scoped>\n",
       "    .dataframe tbody tr th:only-of-type {\n",
       "        vertical-align: middle;\n",
       "    }\n",
       "\n",
       "    .dataframe tbody tr th {\n",
       "        vertical-align: top;\n",
       "    }\n",
       "\n",
       "    .dataframe thead th {\n",
       "        text-align: right;\n",
       "    }\n",
       "</style>\n",
       "<table border=\"1\" class=\"dataframe\">\n",
       "  <thead>\n",
       "    <tr style=\"text-align: right;\">\n",
       "      <th></th>\n",
       "      <th>id</th>\n",
       "      <th>name</th>\n",
       "      <th>screen_name</th>\n",
       "      <th>statuses_count</th>\n",
       "      <th>followers_count</th>\n",
       "      <th>friends_count</th>\n",
       "      <th>favourites_count</th>\n",
       "      <th>listed_count</th>\n",
       "      <th>created_at</th>\n",
       "      <th>url</th>\n",
       "      <th>...</th>\n",
       "      <th>profile_sidebar_fill_color</th>\n",
       "      <th>profile_background_image_url</th>\n",
       "      <th>profile_background_color</th>\n",
       "      <th>profile_link_color</th>\n",
       "      <th>utc_offset</th>\n",
       "      <th>protected</th>\n",
       "      <th>verified</th>\n",
       "      <th>description</th>\n",
       "      <th>updated</th>\n",
       "      <th>dataset</th>\n",
       "    </tr>\n",
       "  </thead>\n",
       "  <tbody>\n",
       "    <tr>\n",
       "      <th>0</th>\n",
       "      <td>3610511</td>\n",
       "      <td>Davide Dellacasa</td>\n",
       "      <td>braddd</td>\n",
       "      <td>20370</td>\n",
       "      <td>5470</td>\n",
       "      <td>2385</td>\n",
       "      <td>145</td>\n",
       "      <td>52</td>\n",
       "      <td>Fri Apr 06 10:58:22 +0000 2007</td>\n",
       "      <td>http://braddd.tumblr.com</td>\n",
       "      <td>...</td>\n",
       "      <td>FFF7CC</td>\n",
       "      <td>http://a0.twimg.com/profile_background_images/...</td>\n",
       "      <td>BADFCD</td>\n",
       "      <td>FF0000</td>\n",
       "      <td>3600.0</td>\n",
       "      <td>NaN</td>\n",
       "      <td>NaN</td>\n",
       "      <td>Founder of http://www.screenweek.it &amp; http://w...</td>\n",
       "      <td>2015-02-14 10:54:49</td>\n",
       "      <td>E13</td>\n",
       "    </tr>\n",
       "    <tr>\n",
       "      <th>1</th>\n",
       "      <td>5656162</td>\n",
       "      <td>Simone Economo</td>\n",
       "      <td>eKoeS</td>\n",
       "      <td>3131</td>\n",
       "      <td>506</td>\n",
       "      <td>381</td>\n",
       "      <td>9</td>\n",
       "      <td>40</td>\n",
       "      <td>Mon Apr 30 15:08:42 +0000 2007</td>\n",
       "      <td>http://www.lineheight.net/</td>\n",
       "      <td>...</td>\n",
       "      <td>DDEEF6</td>\n",
       "      <td>http://a0.twimg.com/images/themes/theme1/bg.png</td>\n",
       "      <td>C0DEED</td>\n",
       "      <td>0084B4</td>\n",
       "      <td>3600.0</td>\n",
       "      <td>NaN</td>\n",
       "      <td>NaN</td>\n",
       "      <td>BSc degree (cum laude) in Computer Engineering...</td>\n",
       "      <td>2015-02-14 10:54:49</td>\n",
       "      <td>E13</td>\n",
       "    </tr>\n",
       "    <tr>\n",
       "      <th>2</th>\n",
       "      <td>5682702</td>\n",
       "      <td>tacone</td>\n",
       "      <td>tacone_</td>\n",
       "      <td>4024</td>\n",
       "      <td>264</td>\n",
       "      <td>87</td>\n",
       "      <td>323</td>\n",
       "      <td>16</td>\n",
       "      <td>Tue May 01 11:53:40 +0000 2007</td>\n",
       "      <td>http://t.co/LKrl1dZE</td>\n",
       "      <td>...</td>\n",
       "      <td>000000</td>\n",
       "      <td>http://a0.twimg.com/profile_background_images/...</td>\n",
       "      <td>1A1B1F</td>\n",
       "      <td>2FC2EF</td>\n",
       "      <td>3600.0</td>\n",
       "      <td>NaN</td>\n",
       "      <td>NaN</td>\n",
       "      <td>Cogito ergo bestemmio.</td>\n",
       "      <td>2015-02-14 10:54:49</td>\n",
       "      <td>E13</td>\n",
       "    </tr>\n",
       "    <tr>\n",
       "      <th>3</th>\n",
       "      <td>6067292</td>\n",
       "      <td>alesaura</td>\n",
       "      <td>alesstar</td>\n",
       "      <td>40586</td>\n",
       "      <td>640</td>\n",
       "      <td>622</td>\n",
       "      <td>1118</td>\n",
       "      <td>32</td>\n",
       "      <td>Tue May 15 16:55:16 +0000 2007</td>\n",
       "      <td>http://alesstar.wordpress.com/</td>\n",
       "      <td>...</td>\n",
       "      <td>95E8EC</td>\n",
       "      <td>http://a0.twimg.com/images/themes/theme4/bg.gif</td>\n",
       "      <td>0099B9</td>\n",
       "      <td>0099B9</td>\n",
       "      <td>3600.0</td>\n",
       "      <td>NaN</td>\n",
       "      <td>NaN</td>\n",
       "      <td>Se la vita ti dà sarde, scapocciale!</td>\n",
       "      <td>2015-02-14 10:54:49</td>\n",
       "      <td>E13</td>\n",
       "    </tr>\n",
       "    <tr>\n",
       "      <th>4</th>\n",
       "      <td>6015122</td>\n",
       "      <td>Angelo</td>\n",
       "      <td>PerDiletto</td>\n",
       "      <td>2016</td>\n",
       "      <td>62</td>\n",
       "      <td>64</td>\n",
       "      <td>13</td>\n",
       "      <td>0</td>\n",
       "      <td>Sun May 13 19:52:00 +0000 2007</td>\n",
       "      <td>http://www.flickr.com/per_diletto</td>\n",
       "      <td>...</td>\n",
       "      <td>F6F6F6</td>\n",
       "      <td>http://a0.twimg.com/images/themes/theme18/bg.gif</td>\n",
       "      <td>ACDED6</td>\n",
       "      <td>038543</td>\n",
       "      <td>3600.0</td>\n",
       "      <td>NaN</td>\n",
       "      <td>NaN</td>\n",
       "      <td>Je me souviens</td>\n",
       "      <td>2015-02-14 10:54:49</td>\n",
       "      <td>E13</td>\n",
       "    </tr>\n",
       "  </tbody>\n",
       "</table>\n",
       "<p>5 rows × 34 columns</p>\n",
       "</div>"
      ],
      "text/plain": [
       "        id              name screen_name  statuses_count  followers_count  \\\n",
       "0  3610511  Davide Dellacasa      braddd           20370             5470   \n",
       "1  5656162    Simone Economo       eKoeS            3131              506   \n",
       "2  5682702            tacone     tacone_            4024              264   \n",
       "3  6067292          alesaura    alesstar           40586              640   \n",
       "4  6015122            Angelo  PerDiletto            2016               62   \n",
       "\n",
       "   friends_count  favourites_count  listed_count  \\\n",
       "0           2385               145            52   \n",
       "1            381                 9            40   \n",
       "2             87               323            16   \n",
       "3            622              1118            32   \n",
       "4             64                13             0   \n",
       "\n",
       "                       created_at                                url  ...  \\\n",
       "0  Fri Apr 06 10:58:22 +0000 2007           http://braddd.tumblr.com  ...   \n",
       "1  Mon Apr 30 15:08:42 +0000 2007         http://www.lineheight.net/  ...   \n",
       "2  Tue May 01 11:53:40 +0000 2007               http://t.co/LKrl1dZE  ...   \n",
       "3  Tue May 15 16:55:16 +0000 2007     http://alesstar.wordpress.com/  ...   \n",
       "4  Sun May 13 19:52:00 +0000 2007  http://www.flickr.com/per_diletto  ...   \n",
       "\n",
       "  profile_sidebar_fill_color  \\\n",
       "0                     FFF7CC   \n",
       "1                     DDEEF6   \n",
       "2                     000000   \n",
       "3                     95E8EC   \n",
       "4                     F6F6F6   \n",
       "\n",
       "                        profile_background_image_url profile_background_color  \\\n",
       "0  http://a0.twimg.com/profile_background_images/...                   BADFCD   \n",
       "1    http://a0.twimg.com/images/themes/theme1/bg.png                   C0DEED   \n",
       "2  http://a0.twimg.com/profile_background_images/...                   1A1B1F   \n",
       "3    http://a0.twimg.com/images/themes/theme4/bg.gif                   0099B9   \n",
       "4   http://a0.twimg.com/images/themes/theme18/bg.gif                   ACDED6   \n",
       "\n",
       "   profile_link_color  utc_offset  protected verified  \\\n",
       "0              FF0000      3600.0        NaN      NaN   \n",
       "1              0084B4      3600.0        NaN      NaN   \n",
       "2              2FC2EF      3600.0        NaN      NaN   \n",
       "3              0099B9      3600.0        NaN      NaN   \n",
       "4              038543      3600.0        NaN      NaN   \n",
       "\n",
       "                                         description              updated  \\\n",
       "0  Founder of http://www.screenweek.it & http://w...  2015-02-14 10:54:49   \n",
       "1  BSc degree (cum laude) in Computer Engineering...  2015-02-14 10:54:49   \n",
       "2                             Cogito ergo bestemmio.  2015-02-14 10:54:49   \n",
       "3               Se la vita ti dà sarde, scapocciale!  2015-02-14 10:54:49   \n",
       "4                                     Je me souviens  2015-02-14 10:54:49   \n",
       "\n",
       "  dataset  \n",
       "0     E13  \n",
       "1     E13  \n",
       "2     E13  \n",
       "3     E13  \n",
       "4     E13  \n",
       "\n",
       "[5 rows x 34 columns]"
      ]
     },
     "execution_count": 2,
     "metadata": {},
     "output_type": "execute_result"
    }
   ],
   "source": [
    "td = pd.read_csv('data/srm csv/users.csv')\n",
    "td.head(5)"
   ]
  },
  {
   "cell_type": "code",
   "execution_count": 3,
   "metadata": {},
   "outputs": [
    {
     "data": {
      "text/html": [
       "<div>\n",
       "<style scoped>\n",
       "    .dataframe tbody tr th:only-of-type {\n",
       "        vertical-align: middle;\n",
       "    }\n",
       "\n",
       "    .dataframe tbody tr th {\n",
       "        vertical-align: top;\n",
       "    }\n",
       "\n",
       "    .dataframe thead th {\n",
       "        text-align: right;\n",
       "    }\n",
       "</style>\n",
       "<table border=\"1\" class=\"dataframe\">\n",
       "  <thead>\n",
       "    <tr style=\"text-align: right;\">\n",
       "      <th></th>\n",
       "      <th>id</th>\n",
       "      <th>name</th>\n",
       "      <th>screen_name</th>\n",
       "      <th>statuses_count</th>\n",
       "      <th>followers_count</th>\n",
       "      <th>friends_count</th>\n",
       "      <th>favourites_count</th>\n",
       "      <th>listed_count</th>\n",
       "      <th>created_at</th>\n",
       "      <th>url</th>\n",
       "      <th>...</th>\n",
       "      <th>profile_sidebar_fill_color</th>\n",
       "      <th>profile_background_image_url</th>\n",
       "      <th>profile_background_color</th>\n",
       "      <th>profile_link_color</th>\n",
       "      <th>utc_offset</th>\n",
       "      <th>protected</th>\n",
       "      <th>verified</th>\n",
       "      <th>description</th>\n",
       "      <th>updated</th>\n",
       "      <th>dataset</th>\n",
       "    </tr>\n",
       "  </thead>\n",
       "  <tbody>\n",
       "    <tr>\n",
       "      <th>0</th>\n",
       "      <td>370098498</td>\n",
       "      <td>pirfectmoses</td>\n",
       "      <td>pirfectmoses</td>\n",
       "      <td>24</td>\n",
       "      <td>4</td>\n",
       "      <td>588</td>\n",
       "      <td>16</td>\n",
       "      <td>0</td>\n",
       "      <td>Thu Sep 08 13:20:35 +0000 2011</td>\n",
       "      <td>NaN</td>\n",
       "      <td>...</td>\n",
       "      <td>DDEEF6</td>\n",
       "      <td>http://a0.twimg.com/profile_background_images/...</td>\n",
       "      <td>C6E2EE</td>\n",
       "      <td>1F98C7</td>\n",
       "      <td>NaN</td>\n",
       "      <td>NaN</td>\n",
       "      <td>NaN</td>\n",
       "      <td>NaN</td>\n",
       "      <td>2015-02-14 10:40:01</td>\n",
       "      <td>INT</td>\n",
       "    </tr>\n",
       "    <tr>\n",
       "      <th>1</th>\n",
       "      <td>37384589</td>\n",
       "      <td>SAK Nair</td>\n",
       "      <td>bsknair1967</td>\n",
       "      <td>656</td>\n",
       "      <td>57</td>\n",
       "      <td>693</td>\n",
       "      <td>597</td>\n",
       "      <td>0</td>\n",
       "      <td>Sun May 03 07:35:13 +0000 2009</td>\n",
       "      <td>NaN</td>\n",
       "      <td>...</td>\n",
       "      <td>DDEEF6</td>\n",
       "      <td>http://a0.twimg.com/images/themes/theme1/bg.png</td>\n",
       "      <td>C0DEED</td>\n",
       "      <td>0084B4</td>\n",
       "      <td>NaN</td>\n",
       "      <td>NaN</td>\n",
       "      <td>NaN</td>\n",
       "      <td>in Kuwait with my buetiful family.</td>\n",
       "      <td>2015-02-14 10:40:01</td>\n",
       "      <td>INT</td>\n",
       "    </tr>\n",
       "    <tr>\n",
       "      <th>2</th>\n",
       "      <td>72110028</td>\n",
       "      <td>Deepak</td>\n",
       "      <td>dedjven</td>\n",
       "      <td>1234</td>\n",
       "      <td>15</td>\n",
       "      <td>104</td>\n",
       "      <td>1150</td>\n",
       "      <td>0</td>\n",
       "      <td>Sun Sep 06 19:50:08 +0000 2009</td>\n",
       "      <td>NaN</td>\n",
       "      <td>...</td>\n",
       "      <td>EFEFEF</td>\n",
       "      <td>http://a0.twimg.com/images/themes/theme14/bg.gif</td>\n",
       "      <td>131516</td>\n",
       "      <td>009999</td>\n",
       "      <td>-39600.0</td>\n",
       "      <td>NaN</td>\n",
       "      <td>NaN</td>\n",
       "      <td>NaN</td>\n",
       "      <td>2015-02-14 10:40:01</td>\n",
       "      <td>INT</td>\n",
       "    </tr>\n",
       "    <tr>\n",
       "      <th>3</th>\n",
       "      <td>82885728</td>\n",
       "      <td>Marcos Vinicius</td>\n",
       "      <td>BrowAlves</td>\n",
       "      <td>573</td>\n",
       "      <td>14</td>\n",
       "      <td>227</td>\n",
       "      <td>530</td>\n",
       "      <td>0</td>\n",
       "      <td>Fri Oct 16 14:02:48 +0000 2009</td>\n",
       "      <td>NaN</td>\n",
       "      <td>...</td>\n",
       "      <td>DDEEF6</td>\n",
       "      <td>http://a0.twimg.com/profile_background_images/...</td>\n",
       "      <td>C0DEED</td>\n",
       "      <td>0084B4</td>\n",
       "      <td>NaN</td>\n",
       "      <td>NaN</td>\n",
       "      <td>NaN</td>\n",
       "      <td>NaN</td>\n",
       "      <td>2015-02-14 10:40:01</td>\n",
       "      <td>INT</td>\n",
       "    </tr>\n",
       "    <tr>\n",
       "      <th>4</th>\n",
       "      <td>110120789</td>\n",
       "      <td>Shri Kant Kanaujia</td>\n",
       "      <td>kanaujiask</td>\n",
       "      <td>675</td>\n",
       "      <td>18</td>\n",
       "      <td>519</td>\n",
       "      <td>653</td>\n",
       "      <td>0</td>\n",
       "      <td>Sun Jan 31 12:08:41 +0000 2010</td>\n",
       "      <td>NaN</td>\n",
       "      <td>...</td>\n",
       "      <td>DDEEF6</td>\n",
       "      <td>http://a0.twimg.com/images/themes/theme1/bg.png</td>\n",
       "      <td>C0DEED</td>\n",
       "      <td>0084B4</td>\n",
       "      <td>19800.0</td>\n",
       "      <td>NaN</td>\n",
       "      <td>NaN</td>\n",
       "      <td>NaN</td>\n",
       "      <td>2015-02-14 10:40:01</td>\n",
       "      <td>INT</td>\n",
       "    </tr>\n",
       "  </tbody>\n",
       "</table>\n",
       "<p>5 rows × 34 columns</p>\n",
       "</div>"
      ],
      "text/plain": [
       "          id                name   screen_name  statuses_count  \\\n",
       "0  370098498        pirfectmoses  pirfectmoses              24   \n",
       "1   37384589            SAK Nair   bsknair1967             656   \n",
       "2   72110028              Deepak       dedjven            1234   \n",
       "3   82885728     Marcos Vinicius     BrowAlves             573   \n",
       "4  110120789  Shri Kant Kanaujia    kanaujiask             675   \n",
       "\n",
       "   followers_count  friends_count  favourites_count  listed_count  \\\n",
       "0                4            588                16             0   \n",
       "1               57            693               597             0   \n",
       "2               15            104              1150             0   \n",
       "3               14            227               530             0   \n",
       "4               18            519               653             0   \n",
       "\n",
       "                       created_at  url  ... profile_sidebar_fill_color  \\\n",
       "0  Thu Sep 08 13:20:35 +0000 2011  NaN  ...                     DDEEF6   \n",
       "1  Sun May 03 07:35:13 +0000 2009  NaN  ...                     DDEEF6   \n",
       "2  Sun Sep 06 19:50:08 +0000 2009  NaN  ...                     EFEFEF   \n",
       "3  Fri Oct 16 14:02:48 +0000 2009  NaN  ...                     DDEEF6   \n",
       "4  Sun Jan 31 12:08:41 +0000 2010  NaN  ...                     DDEEF6   \n",
       "\n",
       "                        profile_background_image_url profile_background_color  \\\n",
       "0  http://a0.twimg.com/profile_background_images/...                   C6E2EE   \n",
       "1    http://a0.twimg.com/images/themes/theme1/bg.png                   C0DEED   \n",
       "2   http://a0.twimg.com/images/themes/theme14/bg.gif                   131516   \n",
       "3  http://a0.twimg.com/profile_background_images/...                   C0DEED   \n",
       "4    http://a0.twimg.com/images/themes/theme1/bg.png                   C0DEED   \n",
       "\n",
       "   profile_link_color  utc_offset  protected verified  \\\n",
       "0              1F98C7         NaN        NaN      NaN   \n",
       "1              0084B4         NaN        NaN      NaN   \n",
       "2              009999    -39600.0        NaN      NaN   \n",
       "3              0084B4         NaN        NaN      NaN   \n",
       "4              0084B4     19800.0        NaN      NaN   \n",
       "\n",
       "                          description              updated dataset  \n",
       "0                                 NaN  2015-02-14 10:40:01     INT  \n",
       "1  in Kuwait with my buetiful family.  2015-02-14 10:40:01     INT  \n",
       "2                                 NaN  2015-02-14 10:40:01     INT  \n",
       "3                                 NaN  2015-02-14 10:40:01     INT  \n",
       "4                                 NaN  2015-02-14 10:40:01     INT  \n",
       "\n",
       "[5 rows x 34 columns]"
      ]
     },
     "execution_count": 3,
     "metadata": {},
     "output_type": "execute_result"
    }
   ],
   "source": [
    "ttd = pd.read_csv('data/srm csv/fusers.csv')\n",
    "ttd.head(5)"
   ]
  },
  {
   "cell_type": "code",
   "execution_count": 4,
   "metadata": {},
   "outputs": [
    {
     "data": {
      "text/plain": [
       "Index(['id', 'name', 'screen_name', 'statuses_count', 'followers_count',\n",
       "       'friends_count', 'favourites_count', 'listed_count', 'created_at',\n",
       "       'url', 'lang', 'time_zone', 'location', 'default_profile',\n",
       "       'default_profile_image', 'geo_enabled', 'profile_image_url',\n",
       "       'profile_banner_url', 'profile_use_background_image',\n",
       "       'profile_background_image_url_https', 'profile_text_color',\n",
       "       'profile_image_url_https', 'profile_sidebar_border_color',\n",
       "       'profile_background_tile', 'profile_sidebar_fill_color',\n",
       "       'profile_background_image_url', 'profile_background_color',\n",
       "       'profile_link_color', 'utc_offset', 'protected', 'verified',\n",
       "       'description', 'updated', 'dataset'],\n",
       "      dtype='object')"
      ]
     },
     "execution_count": 4,
     "metadata": {},
     "output_type": "execute_result"
    }
   ],
   "source": [
    "td.columns"
   ]
  },
  {
   "cell_type": "code",
   "execution_count": 5,
   "metadata": {},
   "outputs": [
    {
     "data": {
      "text/plain": [
       "Index(['id', 'name', 'screen_name', 'statuses_count', 'followers_count',\n",
       "       'friends_count', 'favourites_count', 'listed_count', 'created_at',\n",
       "       'url', 'lang', 'time_zone', 'location', 'default_profile',\n",
       "       'default_profile_image', 'geo_enabled', 'profile_image_url',\n",
       "       'profile_banner_url', 'profile_use_background_image',\n",
       "       'profile_background_image_url_https', 'profile_text_color',\n",
       "       'profile_image_url_https', 'profile_sidebar_border_color',\n",
       "       'profile_background_tile', 'profile_sidebar_fill_color',\n",
       "       'profile_background_image_url', 'profile_background_color',\n",
       "       'profile_link_color', 'utc_offset', 'protected', 'verified',\n",
       "       'description', 'updated', 'dataset'],\n",
       "      dtype='object')"
      ]
     },
     "execution_count": 5,
     "metadata": {},
     "output_type": "execute_result"
    }
   ],
   "source": [
    "ttd.columns"
   ]
  },
  {
   "cell_type": "code",
   "execution_count": 6,
   "metadata": {},
   "outputs": [],
   "source": [
    "from sklearn.model_selection import train_test_split"
   ]
  },
  {
   "cell_type": "code",
   "execution_count": 7,
   "metadata": {},
   "outputs": [],
   "source": [
    "X_train=td.drop(columns=['dataset','id'])\n",
    "y_train=td['dataset']"
   ]
  },
  {
   "cell_type": "code",
   "execution_count": 8,
   "metadata": {},
   "outputs": [],
   "source": [
    "X_test=ttd.drop(columns=['id'])"
   ]
  },
  {
   "cell_type": "code",
   "execution_count": 9,
   "metadata": {},
   "outputs": [
    {
     "data": {
      "text/plain": [
       "E13    1481\n",
       "Name: dataset, dtype: int64"
      ]
     },
     "execution_count": 9,
     "metadata": {},
     "output_type": "execute_result"
    }
   ],
   "source": [
    "y_train.value_counts()"
   ]
  },
  {
   "cell_type": "code",
   "execution_count": 10,
   "metadata": {},
   "outputs": [],
   "source": [
    "X_train,X_test,y_train,y_test = train_test_split(X_train, y_train, test_size=0.3, random_state=40)"
   ]
  },
  {
   "cell_type": "code",
   "execution_count": 11,
   "metadata": {},
   "outputs": [],
   "source": [
    "from sklearn.tree import DecisionTreeClassifier\n",
    "from sklearn.datasets import make_blobs"
   ]
  },
  {
   "cell_type": "code",
   "execution_count": 12,
   "metadata": {},
   "outputs": [],
   "source": [
    "data = make_blobs(n_samples=200,n_features=2,centers=4,cluster_std=2.0,random_state=101)"
   ]
  },
  {
   "cell_type": "code",
   "execution_count": 13,
   "metadata": {},
   "outputs": [
    {
     "data": {
      "text/plain": [
       "<matplotlib.collections.PathCollection at 0x1a1ca29490>"
      ]
     },
     "execution_count": 13,
     "metadata": {},
     "output_type": "execute_result"
    },
    {
     "data": {
      "image/png": "[encoded data removed]",
      "text/plain": [
       "<Figure size 432x288 with 1 Axes>"
      ]
     },
     "metadata": {
      "needs_background": "light"
     },
     "output_type": "display_data"
    }
   ],
   "source": [
    "plt.scatter(data[0][:,0],data[0][:,1],c=data[1],cmap='rainbow')"
   ]
  },
  {
   "cell_type": "code",
   "execution_count": 14,
   "metadata": {},
   "outputs": [
    {
     "data": {
      "text/plain": [
       "array([3, 2, 0, 2, 2, 1, 2, 0, 2, 0, 3, 0, 2, 2, 3, 0, 2, 0, 1, 3, 1, 0,\n",
       "       0, 1, 3, 1, 1, 0, 2, 2, 3, 1, 2, 0, 0, 3, 1, 1, 1, 2, 1, 3, 3, 3,\n",
       "       0, 3, 3, 0, 1, 2, 0, 3, 2, 0, 1, 3, 0, 0, 3, 2, 1, 2, 1, 3, 2, 0,\n",
       "       1, 2, 2, 1, 2, 0, 1, 3, 1, 2, 2, 0, 3, 0, 0, 1, 2, 1, 0, 0, 0, 3,\n",
       "       2, 1, 1, 1, 1, 3, 0, 1, 2, 3, 1, 2, 0, 1, 0, 0, 2, 0, 1, 2, 1, 1,\n",
       "       0, 3, 3, 2, 1, 2, 3, 3, 2, 3, 0, 3, 0, 3, 0, 2, 3, 0, 1, 3, 3, 3,\n",
       "       0, 1, 1, 3, 2, 3, 2, 0, 1, 2, 1, 3, 3, 2, 0, 1, 3, 3, 3, 3, 0, 2,\n",
       "       0, 3, 2, 2, 2, 0, 2, 0, 0, 3, 1, 3, 0, 2, 3, 0, 2, 0, 3, 3, 0, 3,\n",
       "       2, 2, 1, 2, 3, 1, 1, 3, 1, 1, 1, 1, 1, 0, 1, 2, 2, 3, 1, 0, 2, 2,\n",
       "       1, 0])"
      ]
     },
     "execution_count": 14,
     "metadata": {},
     "output_type": "execute_result"
    }
   ],
   "source": [
    "data[1]"
   ]
  },
  {
   "cell_type": "code",
   "execution_count": 15,
   "metadata": {},
   "outputs": [],
   "source": [
    "from sklearn.cluster import KMeans"
   ]
  },
  {
   "cell_type": "code",
   "execution_count": 16,
   "metadata": {},
   "outputs": [],
   "source": [
    "Kmeans = KMeans(n_clusters=9)"
   ]
  },
  {
   "cell_type": "code",
   "execution_count": 17,
   "metadata": {},
   "outputs": [
    {
     "data": {
      "text/plain": [
       "array([8, 2, 7, 6, 6, 3, 6, 7, 1, 7, 8, 7, 6, 1, 8, 5, 2, 5, 3, 4, 3, 5,\n",
       "       1, 0, 8, 0, 0, 5, 6, 2, 4, 0, 2, 5, 7, 8, 3, 3, 0, 5, 3, 4, 4, 4,\n",
       "       5, 1, 4, 1, 0, 7, 5, 8, 2, 5, 3, 1, 1, 5, 7, 6, 0, 1, 3, 4, 6, 5,\n",
       "       3, 2, 6, 3, 6, 1, 3, 7, 3, 2, 6, 5, 8, 7, 7, 3, 6, 3, 5, 5, 5, 8,\n",
       "       1, 3, 0, 3, 3, 1, 1, 0, 6, 8, 3, 2, 7, 3, 1, 5, 1, 7, 3, 6, 0, 3,\n",
       "       2, 4, 8, 6, 0, 2, 4, 8, 1, 4, 1, 8, 7, 8, 5, 2, 8, 5, 0, 4, 8, 4,\n",
       "       5, 0, 3, 8, 2, 7, 6, 5, 0, 2, 3, 4, 4, 1, 7, 0, 4, 8, 4, 4, 5, 2,\n",
       "       5, 8, 1, 6, 6, 5, 6, 5, 7, 8, 3, 8, 7, 6, 4, 2, 6, 5, 8, 1, 1, 8,\n",
       "       6, 1, 0, 1, 4, 0, 0, 4, 3, 0, 3, 0, 0, 5, 3, 6, 6, 4, 3, 1, 6, 6,\n",
       "       3, 5], dtype=int32)"
      ]
     },
     "execution_count": 17,
     "metadata": {},
     "output_type": "execute_result"
    }
   ],
   "source": [
    "Kmeans.fit(data[0])\n",
    "Kmeans.cluster_centers_\n",
    "Kmeans.labels_"
   ]
  },
  {
   "cell_type": "code",
   "execution_count": 18,
   "metadata": {},
   "outputs": [
    {
     "data": {
      "text/plain": [
       "<matplotlib.collections.PathCollection at 0x1a1cc72cd0>"
      ]
     },
     "execution_count": 18,
     "metadata": {},
     "output_type": "execute_result"
    },
    {
     "data": {
      "image/png": "[encoded data removed]",
      "text/plain": [
       "<Figure size 720x288 with 2 Axes>"
      ]
     },
     "metadata": {
      "needs_background": "light"
     },
     "output_type": "display_data"
    }
   ],
   "source": [
    "fig,(ax1,ax2)=plt.subplots(1,2,sharey=True,figsize=(10,4))\n",
    "ax1.set_title('K Means')\n",
    "ax1.scatter(data[0][:,0],data[0][:,1],c=Kmeans.labels_,cmap='rainbow')\n",
    "ax2.set_title('Original')\n",
    "ax2.scatter(data[0][:,0],data[0][:,1],c = data[1],cmap='rainbow')\n"
   ]
  }
 ],
 "metadata": {
  "kernelspec": {
   "display_name": "Python 3",
   "language": "python",
   "name": "python3"
  },
  "language_info": {
   "codemirror_mode": {
    "name": "ipython",
    "version": 3
   },
   "file_extension": ".py",
   "mimetype": "text/x-python",
   "name": "python",
   "nbconvert_exporter": "python",
   "pygments_lexer": "ipython3",
   "version": "3.7.6"
  }
 },
 "nbformat": 4,
 "nbformat_minor": 1
}
